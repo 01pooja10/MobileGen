{
  "nbformat": 4,
  "nbformat_minor": 0,
  "metadata": {
    "colab": {
      "provenance": [],
      "gpuType": "V100",
      "machine_shape": "hm"
    },
    "kernelspec": {
      "name": "python3",
      "display_name": "Python 3"
    },
    "language_info": {
      "name": "python"
    },
    "accelerator": "GPU"
  },
  "cells": [
    {
      "cell_type": "code",
      "source": [
        "from google.colab import drive\n",
        "drive.mount('/content/drive', force_remount=True)"
      ],
      "metadata": {
        "id": "bQMgpMRCQp7U",
        "colab": {
          "base_uri": "https://localhost:8080/"
        },
        "outputId": "86d88681-c60f-415f-cf3f-a3ea9730538a"
      },
      "execution_count": 1,
      "outputs": [
        {
          "output_type": "stream",
          "name": "stdout",
          "text": [
            "Mounted at /content/drive\n"
          ]
        }
      ]
    },
    {
      "cell_type": "code",
      "source": [
        "!pip install wandb\n",
        "!pip install fvcore"
      ],
      "metadata": {
        "colab": {
          "base_uri": "https://localhost:8080/"
        },
        "id": "BLHxD5HzhlNN",
        "outputId": "89f5a000-957b-40a4-a435-1b2e896933dc"
      },
      "execution_count": 2,
      "outputs": [
        {
          "output_type": "stream",
          "name": "stdout",
          "text": [
            "Collecting wandb\n",
            "  Downloading wandb-0.16.6-py3-none-any.whl (2.2 MB)\n",
            "\u001b[2K     \u001b[90m━━━━━━━━━━━━━━━━━━━━━━━━━━━━━━━━━━━━━━━━\u001b[0m \u001b[32m2.2/2.2 MB\u001b[0m \u001b[31m16.2 MB/s\u001b[0m eta \u001b[36m0:00:00\u001b[0m\n",
            "\u001b[?25hRequirement already satisfied: Click!=8.0.0,>=7.1 in /usr/local/lib/python3.10/dist-packages (from wandb) (8.1.7)\n",
            "Collecting GitPython!=3.1.29,>=1.0.0 (from wandb)\n",
            "  Downloading GitPython-3.1.43-py3-none-any.whl (207 kB)\n",
            "\u001b[2K     \u001b[90m━━━━━━━━━━━━━━━━━━━━━━━━━━━━━━━━━━━━━━━━\u001b[0m \u001b[32m207.3/207.3 kB\u001b[0m \u001b[31m17.0 MB/s\u001b[0m eta \u001b[36m0:00:00\u001b[0m\n",
            "\u001b[?25hRequirement already satisfied: requests<3,>=2.0.0 in /usr/local/lib/python3.10/dist-packages (from wandb) (2.31.0)\n",
            "Requirement already satisfied: psutil>=5.0.0 in /usr/local/lib/python3.10/dist-packages (from wandb) (5.9.5)\n",
            "Collecting sentry-sdk>=1.0.0 (from wandb)\n",
            "  Downloading sentry_sdk-1.45.0-py2.py3-none-any.whl (267 kB)\n",
            "\u001b[2K     \u001b[90m━━━━━━━━━━━━━━━━━━━━━━━━━━━━━━━━━━━━━━━━\u001b[0m \u001b[32m267.1/267.1 kB\u001b[0m \u001b[31m21.6 MB/s\u001b[0m eta \u001b[36m0:00:00\u001b[0m\n",
            "\u001b[?25hCollecting docker-pycreds>=0.4.0 (from wandb)\n",
            "  Downloading docker_pycreds-0.4.0-py2.py3-none-any.whl (9.0 kB)\n",
            "Requirement already satisfied: PyYAML in /usr/local/lib/python3.10/dist-packages (from wandb) (6.0.1)\n",
            "Collecting setproctitle (from wandb)\n",
            "  Downloading setproctitle-1.3.3-cp310-cp310-manylinux_2_5_x86_64.manylinux1_x86_64.manylinux_2_17_x86_64.manylinux2014_x86_64.whl (30 kB)\n",
            "Requirement already satisfied: setuptools in /usr/local/lib/python3.10/dist-packages (from wandb) (67.7.2)\n",
            "Requirement already satisfied: appdirs>=1.4.3 in /usr/local/lib/python3.10/dist-packages (from wandb) (1.4.4)\n",
            "Requirement already satisfied: protobuf!=4.21.0,<5,>=3.19.0 in /usr/local/lib/python3.10/dist-packages (from wandb) (3.20.3)\n",
            "Requirement already satisfied: six>=1.4.0 in /usr/local/lib/python3.10/dist-packages (from docker-pycreds>=0.4.0->wandb) (1.16.0)\n",
            "Collecting gitdb<5,>=4.0.1 (from GitPython!=3.1.29,>=1.0.0->wandb)\n",
            "  Downloading gitdb-4.0.11-py3-none-any.whl (62 kB)\n",
            "\u001b[2K     \u001b[90m━━━━━━━━━━━━━━━━━━━━━━━━━━━━━━━━━━━━━━━━\u001b[0m \u001b[32m62.7/62.7 kB\u001b[0m \u001b[31m9.4 MB/s\u001b[0m eta \u001b[36m0:00:00\u001b[0m\n",
            "\u001b[?25hRequirement already satisfied: charset-normalizer<4,>=2 in /usr/local/lib/python3.10/dist-packages (from requests<3,>=2.0.0->wandb) (3.3.2)\n",
            "Requirement already satisfied: idna<4,>=2.5 in /usr/local/lib/python3.10/dist-packages (from requests<3,>=2.0.0->wandb) (3.6)\n",
            "Requirement already satisfied: urllib3<3,>=1.21.1 in /usr/local/lib/python3.10/dist-packages (from requests<3,>=2.0.0->wandb) (2.0.7)\n",
            "Requirement already satisfied: certifi>=2017.4.17 in /usr/local/lib/python3.10/dist-packages (from requests<3,>=2.0.0->wandb) (2024.2.2)\n",
            "Collecting smmap<6,>=3.0.1 (from gitdb<5,>=4.0.1->GitPython!=3.1.29,>=1.0.0->wandb)\n",
            "  Downloading smmap-5.0.1-py3-none-any.whl (24 kB)\n",
            "Installing collected packages: smmap, setproctitle, sentry-sdk, docker-pycreds, gitdb, GitPython, wandb\n",
            "Successfully installed GitPython-3.1.43 docker-pycreds-0.4.0 gitdb-4.0.11 sentry-sdk-1.45.0 setproctitle-1.3.3 smmap-5.0.1 wandb-0.16.6\n",
            "Collecting fvcore\n",
            "  Downloading fvcore-0.1.5.post20221221.tar.gz (50 kB)\n",
            "\u001b[2K     \u001b[90m━━━━━━━━━━━━━━━━━━━━━━━━━━━━━━━━━━━━━━━━\u001b[0m \u001b[32m50.2/50.2 kB\u001b[0m \u001b[31m2.3 MB/s\u001b[0m eta \u001b[36m0:00:00\u001b[0m\n",
            "\u001b[?25h  Preparing metadata (setup.py) ... \u001b[?25l\u001b[?25hdone\n",
            "Requirement already satisfied: numpy in /usr/local/lib/python3.10/dist-packages (from fvcore) (1.25.2)\n",
            "Collecting yacs>=0.1.6 (from fvcore)\n",
            "  Downloading yacs-0.1.8-py3-none-any.whl (14 kB)\n",
            "Requirement already satisfied: pyyaml>=5.1 in /usr/local/lib/python3.10/dist-packages (from fvcore) (6.0.1)\n",
            "Requirement already satisfied: tqdm in /usr/local/lib/python3.10/dist-packages (from fvcore) (4.66.2)\n",
            "Requirement already satisfied: termcolor>=1.1 in /usr/local/lib/python3.10/dist-packages (from fvcore) (2.4.0)\n",
            "Requirement already satisfied: Pillow in /usr/local/lib/python3.10/dist-packages (from fvcore) (9.4.0)\n",
            "Requirement already satisfied: tabulate in /usr/local/lib/python3.10/dist-packages (from fvcore) (0.9.0)\n",
            "Collecting iopath>=0.1.7 (from fvcore)\n",
            "  Downloading iopath-0.1.10.tar.gz (42 kB)\n",
            "\u001b[2K     \u001b[90m━━━━━━━━━━━━━━━━━━━━━━━━━━━━━━━━━━━━━━━━\u001b[0m \u001b[32m42.2/42.2 kB\u001b[0m \u001b[31m4.7 MB/s\u001b[0m eta \u001b[36m0:00:00\u001b[0m\n",
            "\u001b[?25h  Preparing metadata (setup.py) ... \u001b[?25l\u001b[?25hdone\n",
            "Requirement already satisfied: typing_extensions in /usr/local/lib/python3.10/dist-packages (from iopath>=0.1.7->fvcore) (4.11.0)\n",
            "Collecting portalocker (from iopath>=0.1.7->fvcore)\n",
            "  Downloading portalocker-2.8.2-py3-none-any.whl (17 kB)\n",
            "Building wheels for collected packages: fvcore, iopath\n",
            "  Building wheel for fvcore (setup.py) ... \u001b[?25l\u001b[?25hdone\n",
            "  Created wheel for fvcore: filename=fvcore-0.1.5.post20221221-py3-none-any.whl size=61400 sha256=98e59abd6805f0327d09f2c0550fa41c92af2b091b2bf4c46d4b70e536a29973\n",
            "  Stored in directory: /root/.cache/pip/wheels/01/c0/af/77c1cf53a1be9e42a52b48e5af2169d40ec2e89f7362489dd0\n",
            "  Building wheel for iopath (setup.py) ... \u001b[?25l\u001b[?25hdone\n",
            "  Created wheel for iopath: filename=iopath-0.1.10-py3-none-any.whl size=31532 sha256=8f0761d52e3807cdd3fda90732bcdf16a0ff27ca04b2a45904779c506470ff2c\n",
            "  Stored in directory: /root/.cache/pip/wheels/9a/a3/b6/ac0fcd1b4ed5cfeb3db92e6a0e476cfd48ed0df92b91080c1d\n",
            "Successfully built fvcore iopath\n",
            "Installing collected packages: yacs, portalocker, iopath, fvcore\n",
            "Successfully installed fvcore-0.1.5.post20221221 iopath-0.1.10 portalocker-2.8.2 yacs-0.1.8\n"
          ]
        }
      ]
    },
    {
      "cell_type": "code",
      "source": [
        "import sys\n",
        "sys.path.append('/content/drive/MyDrive/csc2231')"
      ],
      "metadata": {
        "id": "9ENlKRVIi-4J"
      },
      "execution_count": 3,
      "outputs": []
    },
    {
      "cell_type": "code",
      "source": [
        "def plot_images_final(images):\n",
        "    plt.figure(figsize=(32, 32))\n",
        "    plt.imshow(torch.cat([\n",
        "        torch.cat([i for i in images.cpu()], dim=-1),\n",
        "    ], dim=-2).permute(1, 2, 0).cpu())\n",
        "    plt.show()"
      ],
      "metadata": {
        "id": "QIgklsaZZJM2"
      },
      "execution_count": 4,
      "outputs": []
    },
    {
      "cell_type": "code",
      "source": [
        "import argparse, logging, copy\n",
        "from types import SimpleNamespace\n",
        "from contextlib import nullcontext\n",
        "\n",
        "import torch\n",
        "from torch import optim\n",
        "import torch.nn as nn\n",
        "from torch.nn.utils import prune\n",
        "import torch.nn.functional as F\n",
        "from torch.profiler import profile, record_function, ProfilerActivity\n",
        "from fastprogress import progress_bar\n",
        "\n",
        "import wandb\n",
        "import time\n",
        "import cv2\n",
        "import numpy as np\n",
        "import matplotlib.pyplot as plt\n",
        "\n",
        "from torch.fft import fft2, ifft2\n",
        "from fvcore.nn import FlopCountAnalysis\n",
        "\n",
        "from modules import UNet_conditional, EMA\n",
        "from filtering import ImageFilter\n",
        "from unet_compressed_v1 import UNet_conditional_student_v1\n",
        "from unet_compressed_v2 import UNet_conditional_student_v2"
      ],
      "metadata": {
        "id": "hvLw4WEETRvA"
      },
      "execution_count": 5,
      "outputs": []
    },
    {
      "cell_type": "code",
      "execution_count": 6,
      "metadata": {
        "id": "2RILXkRnchmd"
      },
      "outputs": [],
      "source": [
        "class Diffusion:\n",
        "\tdef __init__(self, noise_steps=1000, beta_start=1e-4, beta_end=0.02, img_size=256, num_classes=10, c_in=3, c_out=3, device=\"cuda\", version=1, **kwargs):\n",
        "\t\tself.noise_steps = noise_steps\n",
        "\t\tself.beta_start = beta_start\n",
        "\t\tself.beta_end = beta_end\n",
        "\n",
        "\t\tself.beta = self.prepare_noise_schedule().to(device)\n",
        "\t\tself.alpha = 1. - self.beta\n",
        "\t\tself.alpha_hat = torch.cumprod(self.alpha, dim=0)\n",
        "\n",
        "\t\tself.version = version\n",
        "\n",
        "\t\tself.img_size = img_size\n",
        "\t\tif version==1:\n",
        "\t\t\tself.model = UNet_conditional_student_v1(c_in, c_out, num_classes=num_classes,**kwargs).to(device)\n",
        "\t\telif version==2:\n",
        "\t\t\tself.model = UNet_conditional_student_v2(c_in, c_out, num_classes=num_classes,**kwargs).to(device)\n",
        "\t\tself.ema_model = copy.deepcopy(self.model).eval().requires_grad_(False)\n",
        "\t\tself.device = device\n",
        "\t\tself.c_in = c_in\n",
        "\t\tself.num_classes = num_classes\n",
        "\n",
        "\tdef alpha_beta(self):\n",
        "\t\treturn (self.alpha, self.beta, self.alpha_hat)\n",
        "\n",
        "\tdef prepare_noise_schedule(self):\n",
        "\t\treturn torch.linspace(self.beta_start, self.beta_end, self.noise_steps)\n",
        "\n",
        "\tdef sample_timesteps(self, n):\n",
        "\t\treturn torch.randint(low=1, high=self.noise_steps, size=(n,))\n",
        "\n",
        "\tdef noise_images(self, x, t):\n",
        "\t\t\"Add noise to images at instant t\"\n",
        "\t\tsqrt_alpha_hat = torch.sqrt(self.alpha_hat[t])[:, None, None, None]\n",
        "\t\tsqrt_one_minus_alpha_hat = torch.sqrt(1 - self.alpha_hat[t])[:, None, None, None]\n",
        "\t\tƐ = torch.randn_like(x)\n",
        "\t\treturn sqrt_alpha_hat * x + sqrt_one_minus_alpha_hat * Ɛ, Ɛ\n",
        "\n",
        "\n",
        "\t#new pruning function - modified\n",
        "\tdef pruning(self, model):\n",
        "\n",
        "\t\tmod = copy.deepcopy(model).to(device)\n",
        "\t\tl1_prune = torch.nn.utils.prune.L1Unstructured(0.3)\n",
        "\n",
        "\t\tfor name,module in mod.named_modules():\n",
        "\n",
        "\t\t\tif isinstance(module,nn.Linear):\n",
        "\t\t\t\tl1_prune.apply(module,name='weight',amount=0.3)\n",
        "\n",
        "\t\t\telif isinstance(module,nn.Conv2d):\n",
        "\t\t\t\tl1_prune.apply(module,name='weight',amount=0.3)\n",
        "\n",
        "\t\treturn mod\n",
        "\n",
        "\n",
        "\tdef find_weights(self,weights,bits):\n",
        "\n",
        "\t\tmin_wt, max_wt = weights.min(), weights.max()\n",
        "\t\tqmin, qmax = -2.0 ** (bits - 1), 2.0 ** (bits - 1) - 1\n",
        "\n",
        "\t\tscale = (max_wt - min_wt) / (qmax - qmin)\n",
        "\n",
        "\t\tzero_point = qmin - min_wt / scale\n",
        "\n",
        "\t\tquantized_weights = torch.round(weights / scale + zero_point)\n",
        "\t\tquantized_weights = torch.clamp(quantized_weights, qmin, qmax).int()\n",
        "\n",
        "\t\treturn quantized_weights\n",
        "\n",
        "\t#new manual quantization function\n",
        "\tdef quantize_eval(self,model):\n",
        "\n",
        "\t\tfor param_name, param in model.named_parameters():\n",
        "\n",
        "\t\t\tif 'weight' in param_name:\n",
        "\t\t\t\tnew_name = param_name.replace(\".\", \"_\")\n",
        "\t\t\t\tquantized_weights = self.find_weights(param.data, bits=8)\n",
        "\t\t\t\tsetattr(model, new_name, param)\n",
        "\n",
        "\t\treturn model\n",
        "\n",
        "\n",
        "\t@torch.inference_mode()\n",
        "\tdef sample(self, model, labels, cfg_scale=0):\n",
        "\t\tn = len(labels)\n",
        "\t\tlogging.info(f\"Sampling {n} new images....\")\n",
        "\t\tmodel.eval()\n",
        "\t\tmodel = self.quantize_eval(model)\n",
        "\t\tmodel = self.pruning(model)\n",
        "\n",
        "\n",
        "\t\twith torch.inference_mode():\n",
        "\t\t\tx = torch.randn((n, self.c_in, self.img_size, self.img_size)).to(self.device)\n",
        "\t\t\tfor i in progress_bar(reversed(range(1, self.noise_steps)), total=self.noise_steps-1, leave=False):\n",
        "\t\t\t\tt = (torch.ones(n) * i).long().to(self.device)\n",
        "\t\t\t\tpredicted_noise = model(x, t, labels)\n",
        "\t\t\t\tif cfg_scale > 0:\n",
        "\t\t\t\t\tuncond_predicted_noise = model(x, t, None)\n",
        "\t\t\t\t\tpredicted_noise = torch.lerp(uncond_predicted_noise, predicted_noise, cfg_scale)\n",
        "\t\t\t\talpha = self.alpha[t][:, None, None, None]\n",
        "\t\t\t\talpha_hat = self.alpha_hat[t][:, None, None, None]\n",
        "\t\t\t\tbeta = self.beta[t][:, None, None, None]\n",
        "\t\t\t\tif i > 1:\n",
        "\t\t\t\t\tnoise = torch.randn_like(x)\n",
        "\t\t\t\telse:\n",
        "\t\t\t\t\tnoise = torch.zeros_like(x)\n",
        "\t\t\t\tx = 1 / torch.sqrt(alpha) * (x - ((1 - alpha) / (torch.sqrt(1 - alpha_hat))) * predicted_noise) + torch.sqrt(beta) * noise\n",
        "\t\tx = (x.clamp(-1, 1) + 1) / 2\n",
        "\t\tx = (x * 255).type(torch.uint8)\n",
        "\t\treturn x\n",
        "\n",
        "\t#new plot images function integrated with image filters\n",
        "\tdef plot_images(self,images):\n",
        "\n",
        "\t\tilist = []\n",
        "\t\tfilter_instance = ImageFilter(filter_type='weighted', weight = [0.25, 0.25, 0.25, 0.25])\n",
        "\n",
        "\t\tfor i in images.cpu():\n",
        "\t\t\timage = cv2.cvtColor(i.permute(1,2,0).numpy(),cv2.COLOR_RGBA2RGB)\n",
        "\t\t\tfiltered_image = filter_instance.apply_filter(image)\n",
        "\t\t\tilist.append(filtered_image)\n",
        "\n",
        "\t\tilist = torch.Tensor(np.array(ilist))\n",
        "\t\treturn ilist\n",
        "\n",
        "\t#new method to analyze time\n",
        "\tdef analyze_time(self, model, inp, t, y):\n",
        "\t\twith profile(activities=[ProfilerActivity.CUDA], record_shapes=True) as prof:\n",
        "\t\t\twith record_function(\"model_inference\"):\n",
        "\t\t\t\tmodel(x=inp,t=t,y=y)\n",
        "\t\tprint(prof.key_averages().table(sort_by=\"cuda_time_total\", row_limit=10))\n",
        "\n",
        "\tdef count_parameters(self, model):\n",
        "\t\treturn sum(p.numel() for p in model.parameters())\n",
        "\n",
        "\tdef count_flops(self, model, inputs, t, y):\n",
        "\t\tflops = FlopCountAnalysis(model, (inputs, t, y))\n",
        "\t\treturn flops.total()\n",
        "\n",
        "\tdef model_size(self, model):\n",
        "\t\tparam_size = 0\n",
        "\t\tbuffer_size = 0\n",
        "\t\tfor param in model.parameters():\n",
        "\t\t\tparam_size += param.nelement() * param.element_size()\n",
        "\n",
        "\t\tfor buffer in model.buffers():\n",
        "\t\t\tbuffer_size += buffer.nelement() * buffer.element_size()\n",
        "\n",
        "\t\tsize_all_mb = (param_size + buffer_size) / 1024**2\n",
        "\t\tprint('Size: {:.3f} MB'.format(size_all_mb))\n",
        "\n",
        "\t\treturn size_all_mb"
      ]
    },
    {
      "cell_type": "code",
      "source": [
        "# Calculating the model statistics\n",
        "n = 10\n",
        "device = \"cuda\"\n",
        "version = 1\n",
        "obj_class= 1\n",
        "\n",
        "if version==1:\n",
        "    model = UNet_conditional_student_v1(num_classes=10, remove_deep_conv=True).to(device)\n",
        "    ckpt = torch.load(\"/content/drive/MyDrive/csc2231/models/v1/ema_student_ckpt.pt\")\n",
        "elif version==2:\n",
        "    model = UNet_conditional_student_v2(num_classes=10, remove_deep_conv=False).to(device)\n",
        "    ckpt = torch.load(\"/content/drive/MyDrive/csc2231/models/v1/ema_student_ckpt.pt\")\n",
        "\n",
        "model = model.eval().requires_grad_(False)\n",
        "model.load_state_dict(ckpt)\n",
        "diffusion = Diffusion(img_size=64, device=device, version=version)\n",
        "\n",
        "# Number of flops\n",
        "input = torch.randn((n, 3, 64, 64)).to(device)\n",
        "t = (torch.ones(n)).long().to(device)\n",
        "y = torch.Tensor([obj_class] * n).long().to(device)\n",
        "num_flops = diffusion.count_flops(model, input, t, y)\n",
        "\n",
        "# Number of parameters\n",
        "num_parameters = diffusion.count_parameters(model)\n",
        "\n",
        "# Model size\n",
        "model_size = diffusion.model_size(model)\n",
        "\n",
        "# Analyze time\n",
        "input = torch.randn((10, 3, 64, 64)).to(device)\n",
        "t = (torch.ones(n)).long().to(device)\n",
        "y = torch.Tensor([obj_class] * n).long().to(device)\n",
        "diffusion.analyze_time(model, input, t=t, y=y)\n",
        "\n",
        "print(f\"Number of parameters: {num_parameters}\")\n",
        "print(f\"Number of flops: {num_flops}\")\n",
        "print(f\"Model size: {model_size} MB\")"
      ],
      "metadata": {
        "colab": {
          "base_uri": "https://localhost:8080/"
        },
        "id": "WpaTKVBDij-3",
        "outputId": "6841b47e-05e3-445a-c124-b0c51f2f8820"
      },
      "execution_count": 7,
      "outputs": [
        {
          "output_type": "stream",
          "name": "stderr",
          "text": [
            "WARNING:fvcore.nn.jit_analysis:Unsupported operator aten::div encountered 1 time(s)\n",
            "WARNING:fvcore.nn.jit_analysis:Unsupported operator aten::pow encountered 1 time(s)\n",
            "WARNING:fvcore.nn.jit_analysis:Unsupported operator aten::reciprocal encountered 1 time(s)\n",
            "WARNING:fvcore.nn.jit_analysis:Unsupported operator aten::mul encountered 9 time(s)\n",
            "WARNING:fvcore.nn.jit_analysis:Unsupported operator aten::repeat encountered 8 time(s)\n",
            "WARNING:fvcore.nn.jit_analysis:Unsupported operator aten::sin encountered 1 time(s)\n",
            "WARNING:fvcore.nn.jit_analysis:Unsupported operator aten::cos encountered 1 time(s)\n",
            "WARNING:fvcore.nn.jit_analysis:Unsupported operator aten::embedding encountered 1 time(s)\n",
            "WARNING:fvcore.nn.jit_analysis:Unsupported operator aten::add_ encountered 1 time(s)\n",
            "WARNING:fvcore.nn.jit_analysis:Unsupported operator aten::gelu encountered 14 time(s)\n",
            "WARNING:fvcore.nn.jit_analysis:Unsupported operator aten::max_pool2d encountered 3 time(s)\n",
            "WARNING:fvcore.nn.jit_analysis:Unsupported operator aten::silu encountered 6 time(s)\n",
            "WARNING:fvcore.nn.jit_analysis:Unsupported operator aten::add encountered 18 time(s)\n",
            "WARNING:fvcore.nn.jit_analysis:Unsupported operator aten::_native_multi_head_attention encountered 6 time(s)\n",
            "WARNING:fvcore.nn.jit_analysis:The following submodules of the model were never called during the trace of the graph. They may be unused, or they were accessed by direct calls to .forward() or via other python methods. In the latter case they will have zeros for statistics, though their statistics will still contribute to their parent calling module.\n",
            "bot3, bot3.double_conv, bot3.double_conv.0, bot3.double_conv.1, bot3.double_conv.2, bot3.double_conv.3, bot3.double_conv.4, sa1.mha.out_proj, sa2.mha.out_proj, sa3.mha.out_proj, sa4.mha.out_proj, sa5.mha.out_proj, sa6.mha.out_proj\n"
          ]
        },
        {
          "output_type": "stream",
          "name": "stdout",
          "text": [
            "Size: 30.204 MB\n",
            "-------------------------------------------------------  ------------  ------------  ------------  ------------  ------------  ------------  ------------  ------------  ------------  ------------  \n",
            "                                                   Name    Self CPU %      Self CPU   CPU total %     CPU total  CPU time avg     Self CUDA   Self CUDA %    CUDA total  CUDA time avg    # of Calls  \n",
            "-------------------------------------------------------  ------------  ------------  ------------  ------------  ------------  ------------  ------------  ------------  ------------  ------------  \n",
            "void at::native::(anonymous namespace)::cunn_SoftMax...         0.00%       0.000us         0.00%       0.000us       0.000us       7.634ms        22.30%       7.634ms       7.634ms             1  \n",
            "                                  volta_sgemm_32x128_nn         0.00%       0.000us         0.00%       0.000us       0.000us       6.149ms        17.97%       6.149ms       2.050ms             3  \n",
            "                                  volta_sgemm_32x128_tn         0.00%       0.000us         0.00%       0.000us       0.000us       5.260ms        15.37%       5.260ms     350.667us            15  \n",
            "void at::native::reduce_kernel<128, 4, at::native::R...         0.00%       0.000us         0.00%       0.000us       0.000us       5.113ms        14.94%       5.113ms     730.429us             7  \n",
            "void at::native::vectorized_elementwise_kernel<4, at...         0.00%       0.000us         0.00%       0.000us       0.000us       1.844ms         5.39%       1.844ms     263.429us             7  \n",
            "cudnn_infer_volta_scudnn_winograd_128x128_ldg1_ldg4_...         0.00%       0.000us         0.00%       0.000us       0.000us       1.691ms         4.94%       1.691ms     130.077us            13  \n",
            "void at::native::(anonymous namespace)::RowwiseMomen...         0.00%       0.000us         0.00%       0.000us       0.000us       1.484ms         4.34%       1.484ms      92.750us            16  \n",
            "void (anonymous namespace)::softmax_warp_forward<flo...         0.00%       0.000us         0.00%       0.000us       0.000us     839.000us         2.45%     839.000us     419.500us             2  \n",
            "void at::native::(anonymous namespace)::vectorized_l...         0.00%       0.000us         0.00%       0.000us       0.000us     533.000us         1.56%     533.000us      44.417us            12  \n",
            "void at::native::(anonymous namespace)::upsample_bil...         0.00%       0.000us         0.00%       0.000us       0.000us     526.000us         1.54%     526.000us     526.000us             1  \n",
            "-------------------------------------------------------  ------------  ------------  ------------  ------------  ------------  ------------  ------------  ------------  ------------  ------------  \n",
            "Self CPU time total: 28.522ms\n",
            "Self CUDA time total: 34.227ms\n",
            "\n",
            "Number of parameters: 7917699\n",
            "Number of flops: 21134376960\n",
            "Model size: 30.203624725341797 MB\n"
          ]
        }
      ]
    },
    {
      "cell_type": "code",
      "source": [
        "n = 10\n",
        "device = \"cuda\"\n",
        "obj_class = 1\n",
        "\n",
        "if version==1:\n",
        "    model = UNet_conditional_student_v1(num_classes=10, remove_deep_conv=True).to(device)\n",
        "    ckpt = torch.load(r\"/content/drive/MyDrive/csc2231/models/v1/ema_student_ckpt.pt\")\n",
        "elif version==2:\n",
        "    model = UNet_conditional_student_v2(num_classes=10, remove_deep_conv=False).to(device)\n",
        "    ckpt = torch.load(r\"/content/drive/MyDrive/csc2231/models/v2/ema_student.ckpt.pt\")\n",
        "\n",
        "model = model.eval().requires_grad_(False)\n",
        "model.load_state_dict(ckpt)\n",
        "diffusion = Diffusion(img_size=64, device=device)\n",
        "num_parameters = diffusion.count_parameters(model)\n",
        "y = torch.Tensor([obj_class] * n).long().to(device)\n",
        "\n",
        "start_time = time.process_time()\n",
        "x = diffusion.sample(model, y, cfg_scale=3)\n",
        "#ilist = diffusion.plot_images(x)\n",
        "end_time = time.process_time()\n",
        "\n",
        "print(\"Time elapsed: \", end_time-start_time)\n",
        "plot_images_final(x)"
      ],
      "metadata": {
        "id": "6QbAS6otpunK"
      },
      "execution_count": null,
      "outputs": []
    },
    {
      "cell_type": "code",
      "source": [
        "# Save one image\n",
        "generated_img = x[9].cpu().permute(1, 2, 0)\n",
        "plt.imshow(generated_img)\n",
        "plt.axis('off')  # Optional: turn off axis\n",
        "plt.savefig('/content/drive/MyDrive/csc2231/results/Teacher/teacher_5.png')"
      ],
      "metadata": {
        "colab": {
          "base_uri": "https://localhost:8080/",
          "height": 406
        },
        "id": "3BCqU9Bb4T7k",
        "outputId": "694f8d7c-7497-4271-fb83-09f91b823294"
      },
      "execution_count": 21,
      "outputs": [
        {
          "output_type": "display_data",
          "data": {
            "text/plain": [
              "<Figure size 640x480 with 1 Axes>"
            ],
            "image/png": "[encoded data removed]"
          },
          "metadata": {}
        }
      ]
    },
    {
      "cell_type": "code",
      "source": [
        "print(x.shape)"
      ],
      "metadata": {
        "colab": {
          "base_uri": "https://localhost:8080/"
        },
        "id": "CeXvLlrjp8m_",
        "outputId": "4fc65294-ea84-4380-d2dc-6ce1595c31e1"
      },
      "execution_count": null,
      "outputs": [
        {
          "output_type": "stream",
          "name": "stdout",
          "text": [
            "torch.Size([10, 3, 64, 64])\n"
          ]
        }
      ]
    },
    {
      "cell_type": "markdown",
      "source": [
        "## Run inference with script"
      ],
      "metadata": {
        "id": "1yzOGK4fp1im"
      }
    },
    {
      "cell_type": "code",
      "source": [
        "#rm -rf '/content/MobileGen'"
      ],
      "metadata": {
        "id": "9l0Gwj61akL6"
      },
      "execution_count": 26,
      "outputs": []
    },
    {
      "cell_type": "code",
      "source": [
        "!git clone 'https://github.com/01pooja10/MobileGen.git'"
      ],
      "metadata": {
        "colab": {
          "base_uri": "https://localhost:8080/"
        },
        "id": "Di-StMhVap6l",
        "outputId": "1b8a1bc5-07b2-430a-dbca-840cdc033d1a"
      },
      "execution_count": 27,
      "outputs": [
        {
          "output_type": "stream",
          "name": "stdout",
          "text": [
            "Cloning into 'MobileGen'...\n",
            "remote: Enumerating objects: 270, done.\u001b[K\n",
            "remote: Counting objects: 100% (83/83), done.\u001b[K\n",
            "remote: Compressing objects: 100% (83/83), done.\u001b[K\n",
            "remote: Total 270 (delta 45), reused 0 (delta 0), pack-reused 187\u001b[K\n",
            "Receiving objects: 100% (270/270), 352.05 KiB | 11.36 MiB/s, done.\n",
            "Resolving deltas: 100% (138/138), done.\n"
          ]
        }
      ]
    },
    {
      "cell_type": "code",
      "source": [
        "sys.path.append('/content/MobileGen/DDPM/scripts')"
      ],
      "metadata": {
        "id": "Fr5nAs8rZuQY"
      },
      "execution_count": 28,
      "outputs": []
    },
    {
      "cell_type": "code",
      "source": [
        "from updated_inference import infer"
      ],
      "metadata": {
        "id": "lqk9XGOwZ1jn"
      },
      "execution_count": 21,
      "outputs": []
    },
    {
      "cell_type": "code",
      "source": [
        "generated_image = infer(obj_class=1, version=2)"
      ],
      "metadata": {
        "colab": {
          "base_uri": "https://localhost:8080/",
          "height": 17
        },
        "id": "5oF0dcsNZ6VK",
        "outputId": "533224d5-b769-4ea0-c56b-69e95579ffa7"
      },
      "execution_count": 34,
      "outputs": [
        {
          "output_type": "display_data",
          "data": {
            "text/plain": [
              "<IPython.core.display.HTML object>"
            ],
            "text/html": [
              "\n",
              "<style>\n",
              "    /* Turns off some styling */\n",
              "    progress {\n",
              "        /* gets rid of default border in Firefox and Opera. */\n",
              "        border: none;\n",
              "        /* Needs to be in here for Safari polyfill so background images work as expected. */\n",
              "        background-size: auto;\n",
              "    }\n",
              "    progress:not([value]), progress:not([value])::-webkit-progress-bar {\n",
              "        background: repeating-linear-gradient(45deg, #7e7e7e, #7e7e7e 10px, #5c5c5c 10px, #5c5c5c 20px);\n",
              "    }\n",
              "    .progress-bar-interrupted, .progress-bar-interrupted::-webkit-progress-bar {\n",
              "        background: #F44336;\n",
              "    }\n",
              "</style>\n"
            ]
          },
          "metadata": {}
        },
        {
          "output_type": "display_data",
          "data": {
            "text/plain": [
              "<IPython.core.display.HTML object>"
            ],
            "text/html": []
          },
          "metadata": {}
        }
      ]
    },
    {
      "cell_type": "code",
      "source": [
        "plt.imshow(generated_image)"
      ],
      "metadata": {
        "colab": {
          "base_uri": "https://localhost:8080/",
          "height": 449
        },
        "id": "LizTtmlJaz5a",
        "outputId": "4d0e09d5-1d07-4c7d-fc70-1c9bd85d2039"
      },
      "execution_count": 38,
      "outputs": [
        {
          "output_type": "execute_result",
          "data": {
            "text/plain": [
              "<matplotlib.image.AxesImage at 0x7a8e49c7e0b0>"
            ]
          },
          "metadata": {},
          "execution_count": 38
        },
        {
          "output_type": "display_data",
          "data": {
            "text/plain": [
              "<Figure size 640x480 with 1 Axes>"
            ],
            "image/png": "[encoded data removed]"
          },
          "metadata": {}
        }
      ]
    }
  ]
}