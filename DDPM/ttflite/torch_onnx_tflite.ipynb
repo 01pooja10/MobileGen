{
  "nbformat": 4,
  "nbformat_minor": 0,
  "metadata": {
    "colab": {
      "provenance": []
    },
    "kernelspec": {
      "name": "python3",
      "display_name": "Python 3"
    },
    "language_info": {
      "name": "python"
    }
  },
  "cells": [
    {
      "cell_type": "code",
      "execution_count": 42,
      "metadata": {
        "id": "Vv7SyRYRYZ-3"
      },
      "outputs": [],
      "source": [
        "import time\n",
        "import torch\n",
        "import torch.nn as nn\n",
        "import torch.nn.functional as F"
      ]
    },
    {
      "cell_type": "markdown",
      "source": [
        "# Convert PyTorch model to ONNX"
      ],
      "metadata": {
        "id": "7R9YdNQ70HQm"
      }
    },
    {
      "cell_type": "code",
      "source": [
        "def one_param(m):\n",
        "    \"get model first parameter\"\n",
        "    return next(iter(m.parameters()))\n",
        "\n",
        "class SelfAttention(nn.Module):\n",
        "    def __init__(self, channels):\n",
        "        super(SelfAttention, self).__init__()\n",
        "        self.channels = channels\n",
        "        self.mha = nn.MultiheadAttention(channels, 4, batch_first=True)\n",
        "        self.ln = nn.LayerNorm([channels])\n",
        "        self.ff_self = nn.Sequential(\n",
        "            nn.LayerNorm([channels]),\n",
        "            nn.Linear(channels, channels),\n",
        "            nn.GELU(),\n",
        "            nn.Linear(channels, channels),\n",
        "        )\n",
        "\n",
        "    def forward(self, x):\n",
        "        size = x.shape[-1]\n",
        "        x = x.view(-1, self.channels, size * size).swapaxes(1, 2)\n",
        "        x_ln = self.ln(x)\n",
        "        attention_value, _ = self.mha(x_ln, x_ln, x_ln)\n",
        "        attention_value = attention_value + x\n",
        "        attention_value = self.ff_self(attention_value) + attention_value\n",
        "        return attention_value.swapaxes(2, 1).view(-1, self.channels, size, size)\n",
        "\n",
        "\n",
        "class DoubleConv(nn.Module):\n",
        "    def __init__(self, in_channels, out_channels, mid_channels=None, residual=False):\n",
        "        super().__init__()\n",
        "        self.residual = residual\n",
        "        if not mid_channels:\n",
        "            mid_channels = out_channels\n",
        "        self.double_conv = nn.Sequential(\n",
        "            nn.Conv2d(in_channels, mid_channels, kernel_size=3, padding=1, bias=False),\n",
        "            nn.GroupNorm(1, mid_channels),\n",
        "            #nn.InstanceNorm2d(mid_channels),\n",
        "            nn.GELU(),\n",
        "            nn.Conv2d(mid_channels, out_channels, kernel_size=3, padding=1, bias=False),\n",
        "            nn.GroupNorm(1, out_channels),\n",
        "            #nn.InstanceNorm2d(out_channels),\n",
        "        )\n",
        "\n",
        "    def forward(self, x):\n",
        "        if self.residual:\n",
        "\n",
        "            out = F.gelu(x + self.double_conv(x))\n",
        "\n",
        "            return out\n",
        "        else:\n",
        "            return self.double_conv(x)\n",
        "\n",
        "\n",
        "class Down(nn.Module):\n",
        "    def __init__(self, in_channels, out_channels, emb_dim=256):\n",
        "        super().__init__()\n",
        "        self.maxpool_conv = nn.Sequential(\n",
        "            nn.MaxPool2d(2),\n",
        "            DoubleConv(in_channels, out_channels),\n",
        "        )\n",
        "\n",
        "        self.emb_layer = nn.Sequential(\n",
        "            nn.SiLU(),\n",
        "            nn.Linear(\n",
        "                emb_dim,\n",
        "                out_channels\n",
        "            ),\n",
        "        )\n",
        "\n",
        "    def forward(self, x, t):\n",
        "        x = self.maxpool_conv(x)\n",
        "        emb = self.emb_layer(t)[:, :, None, None].repeat(1, 1, x.shape[-2], x.shape[-1])\n",
        "        return x + emb\n",
        "\n",
        "\n",
        "class Up(nn.Module):\n",
        "    def __init__(self, in_channels, out_channels, emb_dim=256):\n",
        "        super().__init__()\n",
        "\n",
        "        self.up = nn.Upsample(scale_factor=2, mode=\"bilinear\", align_corners=True)\n",
        "        self.conv = nn.Sequential(\n",
        "            DoubleConv(in_channels, out_channels, in_channels // 2),\n",
        "        )\n",
        "\n",
        "        self.emb_layer = nn.Sequential(\n",
        "            nn.SiLU(),\n",
        "            nn.Linear(\n",
        "                emb_dim,\n",
        "                out_channels\n",
        "            ),\n",
        "        )\n",
        "\n",
        "    def forward(self, x, skip_x, t):\n",
        "        x = self.up(x)\n",
        "\n",
        "        x = torch.cat([skip_x, x], dim=1)\n",
        "        x = self.conv(x)\n",
        "        emb = self.emb_layer(t)[:, :, None, None].repeat(1, 1, x.shape[-2], x.shape[-1])\n",
        "        return x + emb\n",
        "\n",
        "\n",
        "class UNet_student_v2(nn.Module):\n",
        "    def __init__(self, c_in=3, c_out=3, time_dim=256, remove_deep_conv=False):\n",
        "        super().__init__()\n",
        "        self.time_dim = time_dim\n",
        "        self.remove_deep_conv = remove_deep_conv\n",
        "        self.inc = DoubleConv(c_in, 64)\n",
        "        self.down1 = Down(64, 128)\n",
        "        self.sa1 = SelfAttention(128)\n",
        "        self.down2 = Down(128, 256)\n",
        "        self.sa2 = SelfAttention(256)\n",
        "\n",
        "        self.down3 = Down(256, 256)\n",
        "        self.sa3 = SelfAttention(256)\n",
        "\n",
        "\n",
        "        if remove_deep_conv:\n",
        "            self.bot1 = DoubleConv(256, 256)\n",
        "            self.bot3 = DoubleConv(256, 256)\n",
        "        else:\n",
        "            self.bot1 = DoubleConv(256, 256)\n",
        "            #self.bot2 = DoubleConv(512, 256)\n",
        "            self.bot3 = DoubleConv(256,128)\n",
        "\n",
        "        self.up1 = Up(512, 128)\n",
        "        self.sa4 = SelfAttention(128)\n",
        "\n",
        "        self.up2 = Up(256, 64)\n",
        "        self.sa5 = SelfAttention(64)\n",
        "\n",
        "        self.up3 = Up(128, 64)\n",
        "        self.sa6 = SelfAttention(64)\n",
        "        self.outc = nn.Conv2d(64, c_out, kernel_size=1)\n",
        "\n",
        "    def pos_encoding(self, t, channels):\n",
        "        inv_freq = 1.0 / (\n",
        "            10000\n",
        "            ** (torch.arange(0, channels, 2, device='cpu').float() / channels)\n",
        "        )\n",
        "        pos_enc_a = torch.sin(t.repeat(1, channels // 2) * inv_freq)\n",
        "        pos_enc_b = torch.cos(t.repeat(1, channels // 2) * inv_freq)\n",
        "        pos_enc = torch.cat([pos_enc_a, pos_enc_b], dim=-1)\n",
        "        return pos_enc\n",
        "\n",
        "    def unet_forward(self, x, t):\n",
        "        #print(\"Input size:\",x.size())\n",
        "        x1 = self.inc(x)\n",
        "        #print(\"Input size after inc1 :\",x1.size())\n",
        "        x2 = self.down1(x1, t)\n",
        "        #print(\"Input size after down1 :\",x2.size())\n",
        "        x2 = self.sa1(x2)\n",
        "        #print(\"Input size after sa1 :\",x2.size())\n",
        "        x3 = self.down2(x2, t)\n",
        "        #print(\"Input size after down2 :\",x3.size())\n",
        "        x3 = self.sa2(x3)\n",
        "        #print(\"Input size after sa2 :\",x3.size())\n",
        "\n",
        "        x4 = self.bot1(x3)\n",
        "        #print(\"Input size after bottle1 :\",x4.size())\n",
        "\n",
        "        #x4 = self.bot2(x4)\n",
        "        #print(\"Input size after bottle2 :\",x4.size())\n",
        "\n",
        "        x4 = self.bot3(x4)\n",
        "        #print(\"Input size after bottle3 :\",x4.size())\n",
        "\n",
        "\n",
        "        x = self.up2(x4, x2, t)\n",
        "        #print(\"Input size after up2 :\",x.size())\n",
        "        x = self.sa5(x)\n",
        "        #print(\"Input size after sa5 :\",x.size())\n",
        "        x = self.up3(x, x1, t)\n",
        "        #print(\"Input size after up3 :\",x.size())\n",
        "        x = self.sa6(x)\n",
        "        #print(\"Input size after sa6 :\",x.size())\n",
        "        output = self.outc(x)\n",
        "        #print(\"Ouput size :\",output.size())\n",
        "        return output\n",
        "\n",
        "    def forward(self, x, t):\n",
        "        t = t.unsqueeze(-1)\n",
        "        t = self.pos_encoding(t, self.time_dim)\n",
        "        return self.unet_forward(x, t)\n",
        "\n"
      ],
      "metadata": {
        "id": "4LhoStQBZCJi"
      },
      "execution_count": 43,
      "outputs": []
    },
    {
      "cell_type": "code",
      "source": [
        "class UNet_conditional_student_v2(UNet_student_v2):\n",
        "    def __init__(self, c_in=3, c_out=3, time_dim=256, num_classes=None, **kwargs):\n",
        "        super().__init__(c_in, c_out, time_dim, **kwargs)\n",
        "        if num_classes is not None:\n",
        "            self.label_emb = nn.Embedding(num_classes, time_dim)\n",
        "\n",
        "    def forward(self, x, t, y=None):\n",
        "        t = t.unsqueeze(-1)\n",
        "        t = self.pos_encoding(t, self.time_dim)\n",
        "\n",
        "        if y is not None:\n",
        "            t += self.label_emb(y.long())\n",
        "\n",
        "        return self.unet_forward(x, t)"
      ],
      "metadata": {
        "id": "pDiwbVu0ZCcT"
      },
      "execution_count": 44,
      "outputs": []
    },
    {
      "cell_type": "code",
      "source": [
        "model = UNet_conditional_student_v2(num_classes=10)\n",
        "model.load_state_dict(torch.load('/content/student_v2.pt', map_location='cpu'))\n",
        "model = model.eval()"
      ],
      "metadata": {
        "id": "_W40OKAPZPMJ"
      },
      "execution_count": 45,
      "outputs": []
    },
    {
      "cell_type": "code",
      "source": [
        "inp = torch.randn((1,3,64,64))\n",
        "t = torch.Tensor(torch.ones(1))\n",
        "y = torch.Tensor([6] * 1)\n",
        "\n",
        "onnx_model_path = '/content/converted_model.onnx'"
      ],
      "metadata": {
        "id": "naff3vCkZZE5"
      },
      "execution_count": 46,
      "outputs": []
    },
    {
      "cell_type": "code",
      "source": [
        "out = model(inp,t,y)"
      ],
      "metadata": {
        "id": "cnuBd02CNOAV"
      },
      "execution_count": 47,
      "outputs": []
    },
    {
      "cell_type": "code",
      "source": [
        "#Install ONNX\n",
        "!pip install onnx\n",
        "!pip install onnxruntime\n",
        "!pip install tensorflow_addons"
      ],
      "metadata": {
        "id": "a9W_iEg1aDxy",
        "colab": {
          "base_uri": "https://localhost:8080/"
        },
        "outputId": "e7739399-bd17-497e-bd51-f9199908642a"
      },
      "execution_count": 48,
      "outputs": [
        {
          "output_type": "stream",
          "name": "stdout",
          "text": [
            "Requirement already satisfied: tensorflow_addons in /usr/local/lib/python3.10/dist-packages (0.23.0)\n",
            "Requirement already satisfied: packaging in /usr/local/lib/python3.10/dist-packages (from tensorflow_addons) (24.0)\n",
            "Requirement already satisfied: typeguard<3.0.0,>=2.7 in /usr/local/lib/python3.10/dist-packages (from tensorflow_addons) (2.13.3)\n"
          ]
        }
      ]
    },
    {
      "cell_type": "code",
      "source": [
        "#Export from torch to ONNX\n",
        "torch.onnx.export(\n",
        "    model,                  # PyTorch Model\n",
        "    (inp,t,y),                    # Input tensor\n",
        "    onnx_model_path,        # Output file (eg. 'output_model.onnx')\n",
        "    opset_version=14,       # Operator support version\n",
        "    input_names=['input'],   # Input tensor name (arbitary)\n",
        "    output_names=['output'] # Output tensor name (arbitary)\n",
        ")"
      ],
      "metadata": {
        "id": "Vx5N47sEZddx"
      },
      "execution_count": 49,
      "outputs": []
    },
    {
      "cell_type": "code",
      "source": [
        "%%bash\n",
        "git clone https://github.com/onnx/onnx-tensorflow.git && cd onnx-tensorflow && pip install -e ."
      ],
      "metadata": {
        "id": "3gELy-4ccWf9"
      },
      "execution_count": null,
      "outputs": []
    },
    {
      "cell_type": "code",
      "source": [
        "import sys\n",
        "sys.path.append(\"./onnx-tensorflow\")"
      ],
      "metadata": {
        "id": "b8r500gneGWU"
      },
      "execution_count": 53,
      "outputs": []
    },
    {
      "cell_type": "code",
      "source": [
        "import onnx\n",
        "onnx_model = onnx.load(onnx_model_path)"
      ],
      "metadata": {
        "id": "qbCtauJOccxY"
      },
      "execution_count": 54,
      "outputs": []
    },
    {
      "cell_type": "code",
      "source": [
        "%cd '/content'"
      ],
      "metadata": {
        "colab": {
          "base_uri": "https://localhost:8080/"
        },
        "id": "OsyyFCQAmRc_",
        "outputId": "04319a25-3aae-4609-87ea-65e57d693a78"
      },
      "execution_count": 55,
      "outputs": [
        {
          "output_type": "stream",
          "name": "stdout",
          "text": [
            "/content\n"
          ]
        }
      ]
    },
    {
      "cell_type": "code",
      "source": [
        "import onnx\n",
        "from onnx import helper\n",
        "\n",
        "onnx_model = onnx.load('/content/converted_model.onnx')\n",
        "\n",
        "# Define a mapping from old names to new names\n",
        "name_map = {\"input.1\": \"input_1\",\"onnx::Unsqueeze_1\":\"onnx__Unsqueeze_1\",\"onnx::Cast_2\":\"onnx__Cast_2\"}\n",
        "\n",
        "# Initialize a list to hold the new inputs\n",
        "new_inputs = []\n",
        "\n",
        "# Iterate over the inputs and change their names if needed\n",
        "for inp in onnx_model.graph.input:\n",
        "    if inp.name in name_map:\n",
        "        # Create a new ValueInfoProto with the new name\n",
        "        new_inp = helper.make_tensor_value_info(name_map[inp.name],\n",
        "                                                inp.type.tensor_type.elem_type,\n",
        "                                                [dim.dim_value for dim in inp.type.tensor_type.shape.dim])\n",
        "        new_inputs.append(new_inp)\n",
        "    else:\n",
        "        new_inputs.append(inp)\n",
        "\n",
        "# Clear the old inputs and add the new ones\n",
        "onnx_model.graph.ClearField(\"input\")\n",
        "onnx_model.graph.input.extend(new_inputs)\n",
        "\n",
        "# Go through all nodes in the model and replace the old input name with the new one\n",
        "for node in onnx_model.graph.node:\n",
        "    for i, input_name in enumerate(node.input):\n",
        "        if input_name in name_map:\n",
        "            node.input[i] = name_map[input_name]\n",
        "\n",
        "# Save the renamed ONNX model\n",
        "onnx.save(onnx_model, 'model_new.onnx')"
      ],
      "metadata": {
        "id": "8Kmqsll4l950"
      },
      "execution_count": 56,
      "outputs": []
    },
    {
      "cell_type": "code",
      "source": [
        "onnx_model_path = '/content/model_new.onnx'\n",
        "onnx_model = onnx.load(onnx_model_path)\n",
        "\n",
        "from onnx_tf.backend import prepare\n",
        "\n",
        "tf_model_path = 'tf_folder'\n",
        "tf_rep = prepare(onnx_model)\n",
        "tf_rep.export_graph(tf_model_path)"
      ],
      "metadata": {
        "colab": {
          "base_uri": "https://localhost:8080/"
        },
        "id": "XsA_9kZ5mXQz",
        "outputId": "869e7d36-ce3f-4a45-ccf3-2cb48212ca38"
      },
      "execution_count": 19,
      "outputs": [
        {
          "output_type": "stream",
          "name": "stderr",
          "text": [
            "WARNING:tensorflow:From /usr/local/lib/python3.10/dist-packages/tensorflow/python/util/dispatch.py:1260: resize_bilinear (from tensorflow.python.ops.image_ops_impl) is deprecated and will be removed in a future version.\n",
            "Instructions for updating:\n",
            "Use `tf.image.resize(...method=ResizeMethod.BILINEAR...)` instead.\n",
            "INFO:absl:Function `__call__` contains input name(s) onnx__Cast_2, onnx__Unsqueeze_1, params, x, b, y with unsupported characters which will be renamed to onnx__cast_2, onnx__unsqueeze_1, onnx_tf_prefix__label_emb_gather_params, transpose_58_x, onnx_tf_prefix__sa6_ff_self_ff_self_3_matmul_b, onnx_tf_prefix__bot1_double_conv_double_conv_4_add_y in the SavedModel.\n",
            "INFO:absl:Found untraced functions such as gen_tensor_dict while saving (showing 1 of 1). These functions will not be directly callable after loading.\n",
            "INFO:absl:Writing fingerprint to v2_tf/fingerprint.pb\n"
          ]
        }
      ]
    },
    {
      "cell_type": "code",
      "source": [
        "import tensorflow as tf"
      ],
      "metadata": {
        "id": "BQsUdrJEmzma"
      },
      "execution_count": 57,
      "outputs": []
    },
    {
      "cell_type": "code",
      "source": [
        "print(tf.__version__)"
      ],
      "metadata": {
        "colab": {
          "base_uri": "https://localhost:8080/"
        },
        "id": "llAf3tfw5Ro2",
        "outputId": "ecbc7f80-4ccf-4d2b-c1cd-8db48b29a80f"
      },
      "execution_count": 58,
      "outputs": [
        {
          "output_type": "stream",
          "name": "stdout",
          "text": [
            "2.15.0\n"
          ]
        }
      ]
    },
    {
      "cell_type": "code",
      "source": [
        "input_nodes = tf_rep.inputs\n",
        "output_nodes = tf_rep.outputs"
      ],
      "metadata": {
        "id": "D1Kug0uSqO5S"
      },
      "execution_count": 59,
      "outputs": []
    },
    {
      "cell_type": "code",
      "source": [
        "print(\"The names of the input nodes are: {}\".format(input_nodes))\n",
        "print(\"The names of the output nodes are: {}\".format(output_nodes))"
      ],
      "metadata": {
        "colab": {
          "base_uri": "https://localhost:8080/"
        },
        "id": "02zZ68kVqQ_J",
        "outputId": "370538a2-7669-4ffd-8405-e679f741122f"
      },
      "execution_count": 60,
      "outputs": [
        {
          "output_type": "stream",
          "name": "stdout",
          "text": [
            "The names of the input nodes are: ['input', 'onnx__Unsqueeze_1', 'onnx__Cast_2']\n",
            "The names of the output nodes are: ['output']\n"
          ]
        }
      ]
    },
    {
      "cell_type": "code",
      "source": [
        "pb_path = '/content/tf_folder/saved_model.pb'"
      ],
      "metadata": {
        "id": "4eSuYJJjqbdi"
      },
      "execution_count": null,
      "outputs": []
    },
    {
      "cell_type": "code",
      "source": [
        "def representative_dataset():\n",
        "    inp = tf.random.uniform((100,3,64,64),dtype=tf.dtypes.float32)\n",
        "    t = tf.ones((100,1),dtype=tf.float32)\n",
        "    y = tf.ones((100,1),dtype=tf.float32)\n",
        "    images = [inp,t,y]\n",
        "\n",
        "    #for data in tf.data.Dataset.from_tensor_slices((images)).batch(1).take(100):\n",
        "    yield [tf.dtypes.cast(images, tf.float32)]"
      ],
      "metadata": {
        "id": "ZeJLvPbsKLiF"
      },
      "execution_count": 71,
      "outputs": []
    },
    {
      "cell_type": "code",
      "source": [
        "converter = tf.lite.TFLiteConverter.from_saved_model('/content/'+tf_model_path)\n",
        "\n",
        "converter.target_spec.supported_ops = [\n",
        "  tf.lite.OpsSet.TFLITE_BUILTINS, # enable TensorFlow Lite ops.\n",
        "  tf.lite.OpsSet.SELECT_TF_OPS # enable TensorFlow ops.\n",
        "]\n",
        "\n",
        "converter.target_spec.supported_types = [tf.int8,tf.float32]\n",
        "converter.optimizations = [tf.lite.Optimize.DEFAULT]\n",
        "\n",
        "#converter.representative_dataset = representative_dataset\n",
        "\n",
        "converter.inference_input_type  = tf.float32\n",
        "converter.inference_output_type = tf.float32\n",
        "\n",
        "tflite_model = converter.convert()\n",
        "tflite_mpath = 'tflite_model.tflite'\n",
        "\n",
        "# Save the model\n",
        "with open(tflite_mpath, 'wb') as f:\n",
        "    f.write(tflite_model)"
      ],
      "metadata": {
        "id": "cn84RoZcmn2W"
      },
      "execution_count": 61,
      "outputs": []
    },
    {
      "cell_type": "markdown",
      "source": [
        "# FLOPS calc"
      ],
      "metadata": {
        "id": "cAk1B6tits8C"
      }
    },
    {
      "cell_type": "code",
      "source": [
        "!pip install fvcore"
      ],
      "metadata": {
        "colab": {
          "base_uri": "https://localhost:8080/",
          "height": 149
        },
        "id": "Dwj6Wc6huW4P",
        "outputId": "efc0d5e0-1162-4c05-90f1-f857ce21e6f8"
      },
      "execution_count": null,
      "outputs": [
        {
          "output_type": "stream",
          "name": "stdout",
          "text": [
            "Installing collected packages: yacs, portalocker, iopath, fvcore\n",
            "Successfully installed fvcore-0.1.5.post20221221 iopath-0.1.10 portalocker-2.8.2 yacs-0.1.8\n"
          ]
        },
        {
          "output_type": "display_data",
          "data": {
            "application/vnd.colab-display-data+json": {
              "pip_warning": {
                "packages": [
                  "fvcore"
                ]
              },
              "id": "3ae74761104f450db2ba5a8c87e46e98"
            }
          },
          "metadata": {}
        }
      ]
    },
    {
      "cell_type": "code",
      "source": [
        "from fvcore.nn import FlopCountAnalysis\n",
        "\n",
        "flops = FlopCountAnalysis(model, (inp,t,y))\n",
        "flops.total()"
      ],
      "metadata": {
        "id": "XJiRhDY9tzWc"
      },
      "execution_count": null,
      "outputs": []
    },
    {
      "cell_type": "markdown",
      "source": [
        "#Inference"
      ],
      "metadata": {
        "id": "N0MJKaA3-zY7"
      }
    },
    {
      "cell_type": "code",
      "source": [
        "import numpy as np\n",
        "import tensorflow as tf\n",
        "\n",
        "# Load the TFLite model and allocate tensors\n",
        "interpreter = tf.lite.Interpreter(model_path=\"/content/tflite_model.tflite\")\n",
        "interpreter.allocate_tensors()"
      ],
      "metadata": {
        "id": "54XZPCJu-zE5"
      },
      "execution_count": 62,
      "outputs": []
    },
    {
      "cell_type": "code",
      "source": [
        "input_details = interpreter.get_input_details()\n",
        "output_details = interpreter.get_output_details()\n",
        "\n",
        "# Test the model on random input data\n",
        "input_shape0 = input_details[0]['shape']\n",
        "input_shape1 = input_details[1]['shape']\n",
        "input_shape2 = input_details[2]['shape']\n",
        "#print(input_shape1)\n",
        "\n",
        "input_data0 = np.array(np.random.random_sample(input_shape0), dtype=np.float32)\n",
        "input_data1 = np.array(np.random.random_sample(input_shape1), dtype=np.float32)\n",
        "input_data2 = np.array(np.random.random_sample(input_shape2), dtype=np.float32)\n",
        "\n",
        "interpreter.set_tensor(input_details[0]['index'], input_data0)\n",
        "interpreter.set_tensor(input_details[1]['index'], input_data1)\n",
        "interpreter.set_tensor(input_details[2]['index'], input_data2)\n"
      ],
      "metadata": {
        "id": "nepYwxB2-4LA"
      },
      "execution_count": 63,
      "outputs": []
    },
    {
      "cell_type": "code",
      "source": [
        "interpreter.invoke()"
      ],
      "metadata": {
        "id": "q2vieixO_v9Q"
      },
      "execution_count": 64,
      "outputs": []
    },
    {
      "cell_type": "code",
      "source": [
        "output_data = interpreter.get_tensor(output_details[0]['index'])\n",
        "print(output_data.shape)"
      ],
      "metadata": {
        "colab": {
          "base_uri": "https://localhost:8080/"
        },
        "id": "0I6kkfLq_zNk",
        "outputId": "cfc4f648-930a-49a6-b23a-b5c43f289993"
      },
      "execution_count": 65,
      "outputs": [
        {
          "output_type": "stream",
          "name": "stdout",
          "text": [
            "(1, 3, 64, 64)\n"
          ]
        }
      ]
    },
    {
      "cell_type": "code",
      "source": [
        "import matplotlib.pyplot as plt"
      ],
      "metadata": {
        "id": "zcbqXouLX03O"
      },
      "execution_count": 66,
      "outputs": []
    },
    {
      "cell_type": "code",
      "source": [
        "plt.imshow(output_data[0].transpose(1,2,0))\n",
        "plt.show()"
      ],
      "metadata": {
        "colab": {
          "base_uri": "https://localhost:8080/",
          "height": 469
        },
        "id": "vZqsBSvCXXSz",
        "outputId": "3c40738f-7bbd-4f72-ef80-fb1183c88349"
      },
      "execution_count": 67,
      "outputs": [
        {
          "output_type": "stream",
          "name": "stderr",
          "text": [
            "WARNING:matplotlib.image:Clipping input data to the valid range for imshow with RGB data ([0..1] for floats or [0..255] for integers).\n"
          ]
        },
        {
          "output_type": "display_data",
          "data": {
            "text/plain": [
              "<Figure size 640x480 with 1 Axes>"
            ],
            "image/png": "[encoded data removed]"
          },
          "metadata": {}
        }
      ]
    }
  ]
}
